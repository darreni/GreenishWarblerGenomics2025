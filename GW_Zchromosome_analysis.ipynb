{
  "cells": [
    {
      "cell_type": "raw",
      "metadata": {},
      "source": [
        "---\n",
        "title: Greenish Warbler Z-chromosome analysis\n",
        "author: Darren Irwin\n",
        "date: 9/10/2023\n",
        "execute:\n",
        "  echo: true\n",
        "format:\n",
        "  html:\n",
        "    code-fold: false\n",
        "  pdf:\n",
        "    keep-tex: false\n",
        "    monofont: JuliaMono\n",
        "---"
      ],
      "id": "9236386e"
    },
    {
      "cell_type": "markdown",
      "metadata": {},
      "source": [
        "## Load the filtered dataset\n",
        "\n",
        "This dataset was produced through filtering in GreenishWarblerGenomics2023.qmd\n"
      ],
      "id": "9661e291"
    },
    {
      "cell_type": "code",
      "metadata": {},
      "source": [
        "filename = string(baseName, tagName, \".ind_SNP_ind_filtered.jld2\")\n",
        "genosOnly = load(filename, \"genosOnly_ind_SNP_ind_filtered\")\n",
        "ind_with_metadata_indFiltered = load(filename, \"ind_with_metadata_indFiltered\")\n",
        "pos_SNP_filtered = load(filename, \"pos_SNP_filtered\")\n",
        "println(\"Loaded the filtered data.\")"
      ],
      "id": "cb2f1195",
      "execution_count": null,
      "outputs": []
    },
    {
      "cell_type": "markdown",
      "metadata": {},
      "source": [
        "# Z chromosome differentiation\n",
        "\n",
        "The PCA of Z chromosome variation (see far above) showed some unexpected structure, which I think it likely due to females being shifted (especially on PC2) compared to males. I think this is likely due to females having W chromosomes, reads from which are sometimes incorrectly mapped to the Z. Hence a small fraction of SNPs differ between females and males (with females called as heterozygotes, males as homozygotes, at those SNPs). However, at loci that are only on the Z, males can be heterozygous (2 alleles) whereas females can only be hemizygous (one allele). I am not sure of the net effect.\n",
        "\n",
        "To remove this problem, we could take several approaches (e.g., remove problematic SNPs, or look at one sex at a time). Here we'll plot only males as that will remove the W chromosome. To infer sex of the birds, we'll try plotting heterozygosity of Z chromosome SNPs per bird.\n"
      ],
      "id": "0204d2fd"
    },
    {
      "cell_type": "code",
      "metadata": {},
      "source": [
        "chrom = \"gwZ\"\n",
        "regionText = string(\"chr\", chrom)\n",
        "loci_selection = (pos_SNP_filtered.chrom .== chrom)\n",
        "pos_SNP_filtered_gwZ = pos_SNP_filtered[loci_selection,:]\n",
        "genotypes_gwZ = genosOnly[:,loci_selection]\n",
        "numHetSNPs = sum(genotypes_gwZ .== 1, dims=2)\n",
        "numGenotypedSNPs = sum(map(in([0, 1, 2]), genotypes_gwZ), dims=2)\n",
        "hetFraction = numHetSNPs ./ numGenotypedSNPs\n",
        "ind_with_metadata_indFiltered[!, :hetFractionZ] .= hetFraction\n",
        "\n",
        "f = CairoMakie.Figure()\n",
        "ax = Axis(f[1, 1],\n",
        "    title = \"Average heterozygosity at SNPs on the Z chromosome\",\n",
        "    xlabel = \"Individual (order as in metadata)\",\n",
        "    ylabel = \"Heterozygosity (as fraction of genotypes SNPs)\"\n",
        ")\n",
        "x_plot_values = eachindex(ind_with_metadata_indFiltered.hetFractionZ)\n",
        "y_plot_values = ind_with_metadata_indFiltered.hetFractionZ\n",
        "CairoMakie.scatter!(ax, x_plot_values, y_plot_values, marker = :diamond, color=\"black\", markersize=10, strokewidth=0.5)\n",
        "display(f);"
      ],
      "id": "b7a765e9",
      "execution_count": null,
      "outputs": []
    },
    {
      "cell_type": "markdown",
      "metadata": {},
      "source": [
        "That doesn't provide super clear separation.\n",
        "\n",
        "Let's try looking at number of missing genotypes:\n"
      ],
      "id": "24b816df"
    },
    {
      "cell_type": "code",
      "metadata": {},
      "source": [
        "missingGenotypeCount = sum(genotypes_gwZ .== -1, dims=2)\n",
        "ind_with_metadata_indFiltered[!, :missingZgenotypeCount] .= missingGenotypeCount\n",
        "f = CairoMakie.Figure()\n",
        "ax = Axis(f[1, 1],\n",
        "    title = \"Number of missing SNP genotypes on the Z chromosome\",\n",
        "    xlabel = \"Individual (order as in metadata)\",\n",
        "    ylabel = \"Number of missing SNPs (out of 53336 SNPs)\"\n",
        ")\n",
        "x_plot_values = eachindex(ind_with_metadata_indFiltered.missingZgenotypeCount)\n",
        "y_plot_values = ind_with_metadata_indFiltered.missingZgenotypeCount\n",
        "CairoMakie.scatter!(ax, x_plot_values, y_plot_values, marker = :diamond, color=\"black\", markersize=10, strokewidth=0.5)\n",
        "display(f);"
      ],
      "id": "783c3442",
      "execution_count": null,
      "outputs": []
    },
    {
      "cell_type": "markdown",
      "metadata": {},
      "source": [
        "Now let's plot those together:\n"
      ],
      "id": "295e3e89"
    },
    {
      "cell_type": "code",
      "metadata": {},
      "source": [
        "f = CairoMakie.Figure()\n",
        "ax = Axis(f[1, 1],\n",
        "    title = \"Missing vs. fraction heterozygous Z SNPs\",\n",
        "    xlabel = \"Number missing genotypes\",\n",
        "    ylabel = \"Fraction heterozygous\"\n",
        ")\n",
        "x_plot_values = ind_with_metadata_indFiltered.missingZgenotypeCount\n",
        "y_plot_values = ind_with_metadata_indFiltered.hetFractionZ\n",
        "CairoMakie.scatter!(ax, x_plot_values, y_plot_values, marker = :diamond, color=\"black\", markersize=10, strokewidth=0.5)\n",
        "display(f);"
      ],
      "id": "13fc1d35",
      "execution_count": null,
      "outputs": []
    },
    {
      "cell_type": "markdown",
      "metadata": {},
      "source": [
        "I don't think number missing is very helpful--probably similar in females and males.\n",
        "\n",
        "I realized that Z-chromosome read depth is probably the best way I presently have to infer sex of individuals. So I used vcftools to compare average SNP read depth on chr gwZ and the largest of the autosomes, gw2. These commands were run in the Terminal (I've simplified the file paths here):\n",
        "\n",
        "```\n",
        "vcftools --vcf GW2022_all4plates.genotypes.SNPs_only.whole_genome.max2allele_noindel.vcf.maxmiss60.MQ20.lowHet.vcf --chr gwZ --depth --out GW2022_all4plates.genotypes.SNPs_only.chrgwZ.max2allele_noindel.vcf.maxmiss60.MQ20.lowHet.vcf\n",
        "\n",
        "# After filtering, kept 310 out of 310 Individuals\n",
        "# Outputting Mean Depth by Individual\n",
        "# After filtering, kept 134926 out of a possible 2431709 Sites\n",
        "# Run Time = 155.00 seconds\n",
        "\n",
        "vcftools --vcf GW2022_all4plates.genotypes.SNPs_only.whole_genome.max2allele_noindel.vcf.maxmiss60.MQ20.lowHet.vcf --chr gw2 --depth --out GW2022_all4plates.genotypes.SNPs_only.chrgw2.max2allele_noindel.vcf.maxmiss60.MQ20.lowHet.vcf\n",
        "\n",
        "# After filtering, kept 310 out of 310 Individuals\n",
        "# Outputting Mean Depth by Individual\n",
        "# After filtering, kept 229227 out of a possible 2431709 Sites\n",
        "# Run Time = 155.00 seconds\n",
        "```\n",
        "\n",
        "The plan is to load these read depth files into Julia and determine sex of individuals from the ratio of read depth on chromosome Z to chromosome 2:\n"
      ],
      "id": "cda1f100"
    },
    {
      "cell_type": "code",
      "metadata": {},
      "source": [
        "cd(repoDirectory)\n",
        "\n",
        "filename_gwZ = \"metadata/GW2022_all4plates.genotypes.SNPs_only.chrgwZ.max2allele_noindel.vcf.maxmiss60.MQ20.lowHet.vcf.idepth\"\n",
        "readDepthZ = DataFrame(CSV.File(filename_gwZ))\n",
        "\n",
        "readDepthZ.INDV = correctNames(readDepthZ.INDV)\n",
        "\n",
        "filename_gw2 = \"metadata/GW2022_all4plates.genotypes.SNPs_only.chrgw2.max2allele_noindel.vcf.maxmiss60.MQ20.lowHet.vcf.idepth\"\n",
        "readDepth2 = DataFrame(CSV.File(filename_gw2))\n",
        "\n",
        "readDepth2.INDV = correctNames(readDepth2.INDV)\n",
        "\n",
        "readDepthRatioZto2 = innerjoin(readDepthZ, readDepth2, on = :INDV, renamecols = \"_gwZ\" => \"_gw2\")\n",
        "\n",
        "readDepthRatioZto2[!, :depthRatio] = readDepthRatioZto2.MEAN_DEPTH_gwZ ./ readDepthRatioZto2.MEAN_DEPTH_gw2\n",
        "\n",
        "ind_with_metadata_indFiltered_sex = leftjoin(ind_with_metadata_indFiltered, readDepthRatioZto2, on = :ind => :INDV)\n",
        "\n",
        "plot(ind_with_metadata_indFiltered_sex.depthRatio)"
      ],
      "id": "d193eff8",
      "execution_count": null,
      "outputs": []
    },
    {
      "cell_type": "markdown",
      "metadata": {},
      "source": [
        "That is quite a clear difference. The cluster with the lower Z / autosome read depth ratio should correspond to females (one copy of Z), whereas the higher Z / autosome ratio should be males. Interestingly, the ratios are a little higher than the expected 0.5 and 1, likely due to some repetitive elements (on the Z) and some W fragments being mapped to Z. Additional, the pseudoautosomal region, which is homologous and recombines between Z and W, will drive up Z read depth in females.\n",
        "\n",
        "It is these SNPs with a W copy that I will now try to detect and remove. They should show high heterozygosity in females.\n"
      ],
      "id": "69481347"
    },
    {
      "cell_type": "code",
      "metadata": {},
      "source": [
        "ind_with_metadata_indFiltered_sex.sex .= \"na\" \n",
        "females = ind_with_metadata_indFiltered_sex.depthRatio .< 0.8\n",
        "ind_with_metadata_indFiltered_sex.sex[females] .= \"F\"\n",
        "num_females = sum(females)\n",
        "females_genotypes_gwZ = view(genotypes_gwZ, females, :)\n",
        "numHetsPerSNP_females = vec(sum(females_genotypes_gwZ .== 1, dims=1))\n",
        "female_heterozygosity = numHetsPerSNP_females ./ num_females\n",
        "CairoMakie.hist(female_heterozygosity)\n",
        "CairoMakie.plot(female_heterozygosity)\n",
        "\n",
        "# compare with males:\n",
        "males = ind_with_metadata_indFiltered_sex.depthRatio .> 0.9\n",
        "ind_with_metadata_indFiltered_sex.sex[males] .= \"M\"\n",
        "num_males = sum(males)\n",
        "males_genotypes_gwZ = view(genotypes_gwZ, males, :)\n",
        "numHetsPerSNP_males = vec(sum(males_genotypes_gwZ .== 1, dims=1))\n",
        "male_heterozygosity = numHetsPerSNP_males ./ num_males\n",
        "CairoMakie.hist(male_heterozygosity)\n",
        "CairoMakie.plot(male_heterozygosity)\n",
        "\n",
        "CairoMakie.scatter(vec(numHetsPerSNP_females ./ num_females), vec(numHetsPerSNP_males ./ num_males),\n",
        "    xlabel = \"Proportion females heterozygous\",\n",
        "    ylabel = \"Proportion males heterozygous\")\n",
        "\n",
        "f = CairoMakie.Figure()\n",
        "ax = Axis(f[1, 1],\n",
        "    title = \"Heterozygosity by sex of putative Z-chromosome SNPs\",\n",
        "    xlabel = \"Proportion females heterozygous\",\n",
        "    ylabel = \"Proportion males heterozygous\"\n",
        ")\n",
        "x_plot_values = female_heterozygosity\n",
        "y_plot_values = male_heterozygosity\n",
        "CairoMakie.scatter!(ax, x_plot_values, y_plot_values, marker = :diamond, color=\"black\", markersize=10, strokewidth=0.5)\n",
        "display(f);"
      ],
      "id": "3660deaf",
      "execution_count": null,
      "outputs": []
    },
    {
      "cell_type": "markdown",
      "metadata": {},
      "source": [
        "This really clarifies things. The SNPs in the middle of the graph, with similar heterozygosity in females and males, are consistent with being pseudoautosomal SNPs. But the SNPs that have much higher female heterozygosity than male heterozygosity could be non-pseudoautosomal SNPs with reads from the W mapping to the Z, and giving appearance of Z heterozygosity in females (and not males). It is these SNPs we should remove. Also, there are a few with > 0.5 heterozygosity in males, which should be removed because they are likely due to paralogs.\n",
        "\n",
        "So, going to remove SNPs according to these rules:\n",
        "If (female heterozygosity is above 0.05) AND (ratio of male to female heterozygosity is less than 1/2), REMOVE the SNP from consideration.\n",
        "If (male heterozygosity is above 0.5), REMOVE the SNP.\n"
      ],
      "id": "b21ee9a1"
    },
    {
      "cell_type": "code",
      "metadata": {},
      "source": [
        "removed_SNPs = (male_heterozygosity .> 0.5) .||\n",
        "                ((female_heterozygosity .> 0.05) .&& \n",
        "                ((male_heterozygosity ./ female_heterozygosity) .< 0.5 ))\n",
        "genotypes_gwZ_SNPfiltered = genotypes_gwZ[:, Not(removed_SNPs)]\n",
        "pos_SNP_filtered_gwZ_SNPfiltered = pos_SNP_filtered_gwZ[Not(removed_SNPs),:]\n",
        "println(\"This filtering removed \", sum(removed_SNPs), \" SNPs.\")"
      ],
      "id": "54509c82",
      "execution_count": null,
      "outputs": []
    },
    {
      "cell_type": "markdown",
      "metadata": {},
      "source": [
        "Check that the filtering did remove the problematic SNPs:\n"
      ],
      "id": "b4c2193b"
    },
    {
      "cell_type": "code",
      "metadata": {},
      "source": [
        "females_genotypes_gwZ = view(genotypes_gwZ_SNPfiltered, females, :)\n",
        "numHetsPerSNP_females = vec(sum(females_genotypes_gwZ .== 1, dims=1))\n",
        "female_heterozygosity = numHetsPerSNP_females ./ num_females\n",
        "CairoMakie.hist(female_heterozygosity)\n",
        "CairoMakie.plot(female_heterozygosity)\n",
        "\n",
        "# compare with males:\n",
        "males_genotypes_gwZ = view(genotypes_gwZ_SNPfiltered, males, :)\n",
        "numHetsPerSNP_males = vec(sum(males_genotypes_gwZ .== 1, dims=1))\n",
        "male_heterozygosity = numHetsPerSNP_males ./ num_males\n",
        "CairoMakie.hist(male_heterozygosity)\n",
        "CairoMakie.plot(male_heterozygosity)\n",
        "\n",
        "CairoMakie.scatter(vec(numHetsPerSNP_females ./ num_females), vec(numHetsPerSNP_males ./ num_males),\n",
        "    xlabel = \"Proportion females heterozygous\",\n",
        "    ylabel = \"Proportion males heterozygous\")\n",
        "\n",
        "f = CairoMakie.Figure()\n",
        "ax = Axis(f[1, 1],\n",
        "    title = \"After filtering of SNPs: Heterozygosity by sex of putative Z-chromosome SNPs\",\n",
        "    xlabel = \"Proportion females heterozygous\",\n",
        "    ylabel = \"Proportion males heterozygous\"\n",
        ")\n",
        "x_plot_values = female_heterozygosity\n",
        "y_plot_values = male_heterozygosity\n",
        "CairoMakie.scatter!(ax, x_plot_values, y_plot_values, marker = :diamond, color=\"black\", markersize=10, strokewidth=0.5)\n",
        "display(f);"
      ],
      "id": "dace1b0b",
      "execution_count": null,
      "outputs": []
    },
    {
      "cell_type": "markdown",
      "metadata": {},
      "source": [
        "Looks good. Now impute and do the PCA. I did the imputing previously (to do it again, set `do_imputing = true` below).\n"
      ],
      "id": "0543eec3"
    },
    {
      "cell_type": "code",
      "metadata": {},
      "source": [
        "genotypes_gwZ_SNPfiltered_with_missing = Matrix{Union{Missing, Float32}}(genotypes_gwZ_SNPfiltered)\n",
        "# change \"-1\" to \"missing\":\n",
        "genotypes_gwZ_SNPfiltered_with_missing[genotypes_gwZ_SNPfiltered_with_missing .== -1] .= missing;\n",
        "regionText = \"chrgwZ_cleaned\"\n",
        "filename = string(baseName, tagName, regionText, \".KNNimputedMissing.jld2\")\n",
        "# to do the imputing, do this by setting to true:\n",
        "cd(dataDirectory)\n",
        "do_imputing = false\n",
        "if do_imputing\n",
        "    @time imputed_genos = Impute.knn(genotypes_gwZ_SNPfiltered_with_missing; k=1, dims=:rows)\n",
        "    # took 46 sec\n",
        "    jldsave(filename; imputed_genos, ind_with_metadata_indFiltered = ind_with_metadata_indFiltered_sex, pos_SNP_filtered_region = pos_SNP_filtered_gwZ_SNPfiltered)\n",
        "    imputed_genos_chrZcleaned = imputed_genos\n",
        "    ind_with_metadata_indFiltered_sex_chrZcleaned = ind_with_metadata_indFiltered_sex\n",
        "    pos_SNP_filtered_chZcleaned = pos_SNP_filtered_gwZ_SNPfiltered\n",
        "    print(\"Saved matrix of real and imputed Z chromosome genotypes. \\n\")\n",
        "else # load the already saved imputing\n",
        "    imputed_genos_chrZcleaned = load(filename, \"imputed_genos\")\n",
        "    ind_with_metadata_indFiltered_sex_chrZcleaned = load(filename, \"ind_with_metadata_indFiltered\")\n",
        "    pos_SNP_filtered_chZcleaned = load(filename, \"pos_SNP_filtered_region\")\n",
        "    println(string(\"Loaded \",filename))\n",
        "    println(string(regionText, \": \", size(imputed_genos_chrZcleaned, 2), \" SNPs from \", size(imputed_genos_chrZcleaned, 1), \" individuals\"))\n",
        "end\n",
        "groups_to_plot_PCA = [\"vir\",\"vir_misID\",\"vir_S\",\"nit\", \"lud_PK\", \"lud_KS\", \"lud_central\", \"lud_Sath\", \"lud_ML\",\"troch_west\",\"troch_LN\",\"troch_EM\",\"obs\",\"plumb_BJ\",\"plumb\",\"plumb_vir\"]\n",
        "group_colors_PCA = [\"blue\",\"blue\",\"turquoise1\",\"grey\",\"seagreen4\",\"seagreen3\",\"seagreen2\",\"olivedrab3\",\"olivedrab2\",\"olivedrab1\",\"yellow\",\"gold\",\"orange\",\"pink\",\"red\",\"purple\"]\n",
        "plotPCA(imputed_genos_chrZcleaned, ind_with_metadata_indFiltered_sex_chrZcleaned, \n",
        "            groups_to_plot_PCA, group_colors_PCA; \n",
        "            sampleSet = \"greenish warblers\", regionText=regionText,\n",
        "            flip1 = true, flip2 = true)"
      ],
      "id": "2aa892a5",
      "execution_count": null,
      "outputs": []
    },
    {
      "cell_type": "markdown",
      "metadata": {},
      "source": [
        "Looks Great!! Now have a Z chromosome PCA with both males and females, based on only Z-chromosome markers.\n",
        "\n",
        "#### Genotype-by-individual plots for Z chromosome\n"
      ],
      "id": "49bca999"
    },
    {
      "cell_type": "code",
      "metadata": {},
      "source": [
        "groups = [\"vir\",\"lud_PK\",\"troch_LN\",\"obs\",\"plumb\"] # for purpose of calculating pairwise Fst and Fst_group (to determine SNPs)    \n",
        "plotGroups = [\"vir\",\"vir_S\",\"lud_PK\",\"lud_KS\",\"lud_central\",\"troch_LN\",\"troch_EM\",\"obs\",\"plumb_BJ\",\"plumb\",\"plumb_vir\"]\n",
        "plotGroupColors = [\"blue\",\"turquoise1\",\"seagreen4\",\"seagreen3\",\"seagreen2\",\"yellow\",\"gold\",\"orange\", \"pink\",\"red\",\"purple\"]\n",
        "numIndsToPlot = [10, 5, 2, 1, 8, 10, 1, 4, 3, 10, 1] # maximum number of individuals to plot from each group\n",
        "group1 = \"vir\"   # these groups will determine the color used in the graph\n",
        "group2 = \"plumb\"\n",
        "groupsToCompare = \"vir_plumb\"  # \"obs_plumb\" #\"troch_LN_obs\"   #\"Fst_among\"  #\"vir_troch_LN\"       #\"vir_plumb\"      #\"troch_LN_plumb\"      #\"vir_troch_LN\"\n",
        "Fst_cutoff = 0.95\n",
        "missingFractionAllowed = 0.2  # only show SNPs with less than this fraction of missing data among individuals\n",
        "\n",
        "# Calculate allele freqs and sample sizes (use column Fst_group)\n",
        "freqs, sampleSizes = getFreqsAndSampleSizes(genotypes_gwZ_SNPfiltered_with_missing, ind_with_metadata_indFiltered_sex_chrZcleaned.Fst_group, groups)\n",
        "println(\"Calculated population allele frequencies and sample sizes\")\n",
        "\n",
        "Fst, FstNumerator, FstDenominator, pairwiseNamesFst = getFst(freqs, sampleSizes, groups; among=true)  # set among to FALSE if no among Fst wanted (some things won't work without it) \n",
        "println(\"Calculated Fst values\")\n",
        "\n",
        "# For this Z-chromosome genotype-by-individual plot, include only males (so 2 Z chromosomes) and filter out individuals with lots of missing genotypes\n",
        "numMissings_threshold = 800_000\n",
        "selection = (ind_with_metadata_indFiltered_sex_chrZcleaned.numMissings .< numMissings_threshold) .&& (ind_with_metadata_indFiltered_sex_chrZcleaned.sex .== \"M\") \n",
        "genotypes_gwZ_SNPfiltered_with_missing_selected = view(genotypes_gwZ_SNPfiltered_with_missing, selection, :)\n",
        "ind_with_metadata_indFiltered_sex_chrZcleaned_selected = view(ind_with_metadata_indFiltered_sex_chrZcleaned, selection, :)\n",
        "\n",
        "# now limit each group to specified numbers\n",
        "genosOnly_included, ind_with_metadata_included = limitIndsToPlot(plotGroups, numIndsToPlot, genotypes_gwZ_SNPfiltered_with_missing_selected, ind_with_metadata_indFiltered_sex_chrZcleaned_selected);\n",
        "\n",
        "chr = \"gwZ\"\n",
        "regionInfo = chooseChrRegion(pos_SNP_filtered_chZcleaned, chr; positionMin=1, positionMax=scaffold_lengths[chr])\n",
        "\n",
        "plotInfo = plotGenotypeByIndividual(groupsToCompare, Fst_cutoff, missingFractionAllowed,\n",
        "    regionInfo, pos_SNP_filtered_chZcleaned, Fst, pairwiseNamesFst, \n",
        "    genosOnly_included, ind_with_metadata_included, freqs, plotGroups, plotGroupColors);\n",
        "# plotInfo contains a tuple with: (f, plottedGenotype, locations, plottedMetadata)\n",
        "\n",
        "# Now plot without title:\n",
        "plotInfo = plotGenotypeByIndividual(groupsToCompare, Fst_cutoff, missingFractionAllowed,\n",
        "    regionInfo, pos_SNP_filtered_chZcleaned, Fst, pairwiseNamesFst, \n",
        "    genosOnly_included, ind_with_metadata_included, freqs, plotGroups, plotGroupColors;\n",
        "    plotTitle = \"\");\n",
        "save(\"Figure2_from_Julia_test.png\", plotInfo[1], px_per_unit = 2.0) # the last bit doubles the pixels per row and per column (times 4 overall) "
      ],
      "id": "3cf6ed1f",
      "execution_count": null,
      "outputs": []
    },
    {
      "cell_type": "markdown",
      "metadata": {},
      "source": [
        "#### Now make one of all individuals, for the supplement\n"
      ],
      "id": "cc39912b"
    },
    {
      "cell_type": "code",
      "metadata": {},
      "source": [
        "groups_to_plot_all = [\"vir\",\"vir_misID\",\"vir_S\",\"nit\", \"lud_PK\", \"lud_KS\", \"lud_central\", \"lud_Sath\", \"lud_ML\",\"troch_west\",\"troch_LN\",\"troch_EM\",\"obs\",\"plumb_BJ\",\"plumb\",\"plumb_vir\"]\n",
        "group_colors_all = [\"blue\",\"blue\",\"turquoise1\",\"grey\",\"seagreen4\",\"seagreen3\",\"seagreen2\",\"olivedrab3\",\"olivedrab2\",\"olivedrab1\",\"yellow\",\"gold\",\"orange\",\"pink\",\"red\",\"purple\"];\n",
        "\n",
        "groups = [\"vir\",\"lud_PK\",\"troch_LN\",\"obs\",\"plumb\"] # for purpose of calculating pairwise Fst and Fst_group (to determine SNPs)   \n",
        "plotGroups = groups_to_plot_all \n",
        "plotGroupColors = group_colors_all\n",
        "group1 = \"vir\"   # these groups will determine the color used in the graph\n",
        "group2 = \"plumb\"\n",
        "groupsToCompare = \"Fst_among\" #\"vir_plumb\" \n",
        "Fst_cutoff = 0.9\n",
        "missingFractionAllowed = 0.2  # only show SNPs with less than this fraction of missing data among individuals\n",
        "\n",
        "# Calculate allele freqs and sample sizes (use column Fst_group)\n",
        "freqs, sampleSizes = getFreqsAndSampleSizes(genotypes_gwZ_SNPfiltered_with_missing, ind_with_metadata_indFiltered_sex_chrZcleaned.Fst_group, groups)\n",
        "println(\"Calculated population allele frequencies and sample sizes\")\n",
        "\n",
        "Fst, FstNumerator, FstDenominator, pairwiseNamesFst = getFst(freqs, sampleSizes, groups; among=true)  # set among to FALSE if no among Fst wanted (some things won't work without it) \n",
        "println(\"Calculated Fst values\")\n",
        "\n",
        "chr = \"gwZ\"\n",
        "regionInfo = chooseChrRegion(pos_SNP_filtered_chZcleaned, chr; positionMin=1, positionMax=scaffold_lengths[chr]) # this gets the maximum position for the chromosome\n",
        "\n",
        "plotInfo = plotGenotypeByIndividual(groupsToCompare, Fst_cutoff, \n",
        "    missingFractionAllowed, regionInfo,\n",
        "    pos_SNP_filtered_chZcleaned, Fst, pairwiseNamesFst, \n",
        "    genotypes_gwZ_SNPfiltered_with_missing, ind_with_metadata_indFiltered_sex_chrZcleaned, freqs, \n",
        "    plotGroups, plotGroupColors;\n",
        "    indFontSize=4, figureSize=(1200,1600),\n",
        "    plotTitle = \"\");\n",
        "# plotInfo contains a tuple with: (f, plottedGenotype, locations, plottedMetadata)\n",
        "save(\"Fig_gwZ_GBI_allinds_from_Julia.png\", plotInfo[1], px_per_unit = 2.0)"
      ],
      "id": "86623082",
      "execution_count": null,
      "outputs": []
    },
    {
      "cell_type": "markdown",
      "metadata": {},
      "source": [
        "## Just west side\n",
        "\n",
        "One of the nitidus is a female, so including both sexes here, and no additional filtering for missing data:\n"
      ],
      "id": "0bf186dd"
    },
    {
      "cell_type": "code",
      "metadata": {},
      "source": [
        "groups = [\"vir\",\"troch_LN\"] # for purpose of calculating pairwise Fst and Fst_group (to determine SNPs)\n",
        "plotGroups = [\"vir\",\"vir_S\",\"nit\", \"lud_PK\", \"lud_KS\", \"lud_central\", \"lud_Sath\", \"lud_ML\",\"troch_west\",\"troch_LN\"]\n",
        "plotGroupColors = [\"blue\",\"turquoise1\",\"grey\",\"seagreen4\",\"seagreen3\",\"seagreen2\",\"olivedrab3\",\"olivedrab2\",\"olivedrab1\",\"yellow\"]\n",
        "numIndsToPlot = [10, 5, 2, 3, 5, 15, 3, 5, 10, 10] # maximum number of individuals to plot from each group\n",
        "group1 = \"vir\"   # these groups will determine the color used in the graph\n",
        "group2 = \"troch_LN\"\n",
        "groupsToCompare = \"vir_troch_LN\" # \"Fst_among\"\n",
        "Fst_cutoff = 0.95\n",
        "missingFractionAllowed = 0.2  # only show SNPs with less than this fraction of missing data among individuals\n",
        "\n",
        "# Calculate allele freqs and sample sizes (use column Fst_group)\n",
        "freqs, sampleSizes = getFreqsAndSampleSizes(genotypes_gwZ_SNPfiltered_with_missing, ind_with_metadata_indFiltered_sex_chrZcleaned.Fst_group, groups)\n",
        "println(\"Calculated population allele frequencies and sample sizes\")\n",
        "\n",
        "Fst, FstNumerator, FstDenominator, pairwiseNamesFst = getFst(freqs, sampleSizes, groups; among=true)  # set among to FALSE if no among Fst wanted (some things won't work without it) \n",
        "println(\"Calculated Fst values\")\n",
        "\n",
        "# now limit each group to specified numbers\n",
        "genosOnly_included, ind_with_metadata_included = limitIndsToPlot(plotGroups, numIndsToPlot, genotypes_gwZ_SNPfiltered_with_missing, ind_with_metadata_indFiltered_sex_chrZcleaned);\n",
        "\n",
        "chr = \"gwZ\"\n",
        "regionInfo = chooseChrRegion(pos_SNP_filtered_chZcleaned, chr; positionMin=1, positionMax=scaffold_lengths[chr])\n",
        "\n",
        "plotInfo = plotGenotypeByIndividual(groupsToCompare, Fst_cutoff, missingFractionAllowed,\n",
        "    regionInfo, pos_SNP_filtered_chZcleaned, Fst, pairwiseNamesFst, \n",
        "    genosOnly_included, ind_with_metadata_included, freqs, plotGroups, plotGroupColors);\n",
        "# plotInfo contains a tuple with: (f, plottedGenotype, locations, plottedMetadata)\n",
        "\n",
        "# Now plot without title:\n",
        "plotInfo = plotGenotypeByIndividual(groupsToCompare, Fst_cutoff, missingFractionAllowed,\n",
        "    regionInfo, pos_SNP_filtered_chZcleaned, Fst, pairwiseNamesFst, \n",
        "    genosOnly_included, ind_with_metadata_included, freqs, plotGroups, plotGroupColors;\n",
        "    plotTitle = \"\");\n",
        "save(\"Figure_suppWestZ_from_Julia.svg\", plotInfo[1])"
      ],
      "id": "8f1723ad",
      "execution_count": null,
      "outputs": []
    },
    {
      "cell_type": "markdown",
      "metadata": {},
      "source": [
        "### Do Z-chromosome PCA on west side\n"
      ],
      "id": "45aeba64"
    },
    {
      "cell_type": "code",
      "metadata": {},
      "source": [
        "groups_to_plot_PCA = [\"vir\", \"vir_misID\", \"vir_S\", \"nit\", \"lud_PK\", \"lud_KS\", \"lud_central\", \"lud_Sath\", \"lud_ML\", \"troch_west\", \"troch_LN\"]\n",
        "group_colors_PCA = [\"blue\", \"blue\", \"turquoise1\", \"grey\", \"seagreen4\", \"seagreen3\", \"seagreen2\", \"olivedrab3\", \"olivedrab2\", \"olivedrab1\", \"yellow\"]\n",
        "PCA_Zchrom_west = plotPCA(imputed_genos_chrZcleaned, ind_with_metadata_indFiltered_sex_chrZcleaned, \n",
        "            groups_to_plot_PCA, group_colors_PCA; \n",
        "            sampleSet = \"greenish warblers\", regionText=regionText,\n",
        "            flip1 = true, flip2 = true)\n",
        "totalObservationVariance = var(PCA_Zchrom_west.model) \n",
        "PC1_variance, PC2_variance = principalvars(PCA_Zchrom_west.model)[1:2]\n",
        "PC1_prop_variance = PC1_variance / totalObservationVariance\n",
        "PC2_prop_variance = PC2_variance / totalObservationVariance\n",
        "println(\"PC1 explains \", 100*PC1_prop_variance, \"% of the total variance.\n",
        "PC2 explains \", 100*PC2_prop_variance, \"%.\")"
      ],
      "id": "8d17676f",
      "execution_count": null,
      "outputs": []
    },
    {
      "cell_type": "markdown",
      "metadata": {},
      "source": [
        "## Just east side:\n",
        "\n",
        "One of obscuratus is female, so also showing both males and females here:\n"
      ],
      "id": "0008a4fe"
    },
    {
      "cell_type": "code",
      "metadata": {},
      "source": [
        "groups = [\"troch_LN\",\"obs\",\"plumb\"] # for purpose of calculating pairwise Fst and Fst_group (to determine SNPs)\n",
        "plotGroups = [\"troch_LN\",\"troch_EM\",\"obs\",\"plumb_BJ\",\"plumb\"]\n",
        "plotGroupColors = [\"yellow\",\"gold\",\"orange\",\"pink\",\"red\"]\n",
        "numIndsToPlot = [15, 15, 15, 15, 17] # maximum number of individuals to plot from each group\n",
        "group1 = \"troch_LN\"   # these groups will determine the color used in the graph\n",
        "group2 = \"plumb\"\n",
        "groupsToCompare = \"troch_LN_plumb\" #\"Fst_among\"\n",
        "Fst_cutoff = 0.95\n",
        "missingFractionAllowed = 0.2  # only show SNPs with less than this fraction of missing data among individuals\n",
        "\n",
        "# Calculate allele freqs and sample sizes (use column Fst_group)\n",
        "freqs, sampleSizes = getFreqsAndSampleSizes(genotypes_gwZ_SNPfiltered_with_missing, ind_with_metadata_indFiltered_sex_chrZcleaned.Fst_group, groups)\n",
        "println(\"Calculated population allele frequencies and sample sizes\")\n",
        "\n",
        "Fst, FstNumerator, FstDenominator, pairwiseNamesFst = getFst(freqs, sampleSizes, groups; among=true)  # set among to FALSE if no among Fst wanted (some things won't work without it) \n",
        "println(\"Calculated Fst values\")\n",
        "\n",
        "# now limit each group to specified numbers\n",
        "genosOnly_included, ind_with_metadata_included = limitIndsToPlot(plotGroups, numIndsToPlot, genotypes_gwZ_SNPfiltered_with_missing, ind_with_metadata_indFiltered_sex_chrZcleaned);\n",
        "\n",
        "chr = \"gwZ\"\n",
        "regionInfo = chooseChrRegion(pos_SNP_filtered_chZcleaned, chr; positionMin=1, positionMax=scaffold_lengths[chr])\n",
        "\n",
        "plotInfo = plotGenotypeByIndividual(groupsToCompare, Fst_cutoff, missingFractionAllowed,\n",
        "    regionInfo, pos_SNP_filtered_chZcleaned, Fst, pairwiseNamesFst, \n",
        "    genosOnly_included, ind_with_metadata_included, freqs, plotGroups, plotGroupColors);\n",
        "# plotInfo contains a tuple with: (f, plottedGenotype, locations, plottedMetadata)\n",
        "\n",
        "# Now plot without title:\n",
        "plotInfo = plotGenotypeByIndividual(groupsToCompare, Fst_cutoff, missingFractionAllowed,\n",
        "    regionInfo, pos_SNP_filtered_chZcleaned, Fst, pairwiseNamesFst, \n",
        "    genosOnly_included, ind_with_metadata_included, freqs, plotGroups, plotGroupColors;\n",
        "    plotTitle = \"\");\n",
        "save(\"Figure_suppEastZ_from_Julia.svg\", plotInfo[1])"
      ],
      "id": "3496d891",
      "execution_count": null,
      "outputs": []
    },
    {
      "cell_type": "markdown",
      "metadata": {},
      "source": [
        "### Do Z-chromosome PCA on east side\n"
      ],
      "id": "37615140"
    },
    {
      "cell_type": "code",
      "metadata": {},
      "source": [
        "groups_to_plot_PCA = [\"troch_LN\",\"troch_EM\",\"obs\",\"plumb_BJ\",\"plumb\"]\n",
        "group_colors_PCA = [\"yellow\",\"gold\",\"orange\",\"pink\",\"red\"]\n",
        "PCA_Zchrom_east = plotPCA(imputed_genos_chrZcleaned, ind_with_metadata_indFiltered_sex_chrZcleaned, \n",
        "            groups_to_plot_PCA, group_colors_PCA; \n",
        "            sampleSet = \"greenish warblers\", regionText=regionText,\n",
        "            flip1 = true, flip2 = true)\n",
        "totalObservationVariance = var(PCA_Zchrom_east.model) \n",
        "PC1_variance, PC2_variance = principalvars(PCA_Zchrom_east.model)[1:2]\n",
        "PC1_prop_variance = PC1_variance / totalObservationVariance\n",
        "PC2_prop_variance = PC2_variance / totalObservationVariance\n",
        "println(\"PC1 explains \", 100*PC1_prop_variance, \"% of the total variance.\n",
        "PC2 explains \", 100*PC2_prop_variance, \"%.\")"
      ],
      "id": "862db571",
      "execution_count": null,
      "outputs": []
    }
  ],
  "metadata": {
    "kernelspec": {
      "name": "julia-1.9",
      "language": "julia",
      "display_name": "Julia 1.9.3"
    }
  },
  "nbformat": 4,
  "nbformat_minor": 5
}